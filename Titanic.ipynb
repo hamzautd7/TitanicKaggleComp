{
  "nbformat": 4,
  "nbformat_minor": 0,
  "metadata": {
    "kernelspec": {
      "display_name": "Python 3",
      "language": "python",
      "name": "python3"
    },
    "language_info": {
      "codemirror_mode": {
        "name": "ipython",
        "version": 3
      },
      "file_extension": ".py",
      "mimetype": "text/x-python",
      "name": "python",
      "nbconvert_exporter": "python",
      "pygments_lexer": "ipython3",
      "version": "3.7.4"
    },
    "colab": {
      "name": "Titanic.ipynb",
      "provenance": []
    },
    "accelerator": "GPU"
  },
  "cells": [
    {
      "cell_type": "code",
      "metadata": {
        "id": "a9u9urTXFQ_O",
        "colab_type": "code",
        "colab": {}
      },
      "source": [
        "%load_ext autoreload\n",
        "%autoreload 2\n",
        "\n",
        "%matplotlib inline"
      ],
      "execution_count": 0,
      "outputs": []
    },
    {
      "cell_type": "code",
      "metadata": {
        "id": "yq8tW46AFQ_S",
        "colab_type": "code",
        "colab": {}
      },
      "source": [
        "import sys\n",
        "sys.path.append ('../')\n",
        "from fastai.imports import *\n",
        "from fastai.structured import *\n",
        "\n",
        "from pandas_summary import DataFrameSummary\n",
        "from sklearn.ensemble import RandomForestRegressor, RandomForestClassifier\n",
        "from IPython.display import display\n",
        "\n",
        "from sklearn import metrics"
      ],
      "execution_count": 0,
      "outputs": []
    },
    {
      "cell_type": "code",
      "metadata": {
        "id": "HZrhzb_pFQ_W",
        "colab_type": "code",
        "colab": {}
      },
      "source": [
        "import seaborn as sns"
      ],
      "execution_count": 0,
      "outputs": []
    },
    {
      "cell_type": "code",
      "metadata": {
        "id": "zff8JqkoFQ_Z",
        "colab_type": "code",
        "colab": {}
      },
      "source": [
        "PATH = \"Titanic/\"\n",
        "trainDf = pd.read_csv(f'{PATH}train.csv', low_memory=False)\n",
        "testDf = pd.read_csv(f'{PATH}test.csv', low_memory=False)"
      ],
      "execution_count": 0,
      "outputs": []
    },
    {
      "cell_type": "code",
      "metadata": {
        "id": "9oSEzdn0FQ_c",
        "colab_type": "code",
        "colab": {}
      },
      "source": [
        "testID = testDf.PassengerId"
      ],
      "execution_count": 0,
      "outputs": []
    },
    {
      "cell_type": "code",
      "metadata": {
        "id": "X7Atdzz-FQ_e",
        "colab_type": "code",
        "colab": {}
      },
      "source": [
        "def display_all(df):\n",
        "    with pd.option_context(\"display.max_rows\", 1000, \"display.max_columns\", 1000): \n",
        "        display(df)"
      ],
      "execution_count": 0,
      "outputs": []
    },
    {
      "cell_type": "code",
      "metadata": {
        "id": "If9iSttdFQ_g",
        "colab_type": "code",
        "outputId": "c88463f9-8b4a-4d16-a7bd-d8856cf4dce7",
        "colab": {}
      },
      "source": [
        "df_main = pd.concat([trainDf, testDf], axis=0, ignore_index= True)"
      ],
      "execution_count": 0,
      "outputs": [
        {
          "output_type": "stream",
          "text": [
            "C:\\Users\\M.Hamza.Naveed\\Anaconda3\\lib\\site-packages\\ipykernel_launcher.py:1: FutureWarning: Sorting because non-concatenation axis is not aligned. A future version\n",
            "of pandas will change to not sort by default.\n",
            "\n",
            "To accept the future behavior, pass 'sort=False'.\n",
            "\n",
            "To retain the current behavior and silence the warning, pass 'sort=True'.\n",
            "\n",
            "  \"\"\"Entry point for launching an IPython kernel.\n"
          ],
          "name": "stderr"
        }
      ]
    },
    {
      "cell_type": "code",
      "metadata": {
        "id": "E8U23iBpFQ_l",
        "colab_type": "code",
        "outputId": "63d85667-df1b-4735-c4a7-79a22e02b682",
        "colab": {}
      },
      "source": [
        "i = df_main[df_main.Age.isnull()].index\n",
        "i"
      ],
      "execution_count": 0,
      "outputs": [
        {
          "output_type": "execute_result",
          "data": {
            "text/plain": [
              "Int64Index([   5,   17,   19,   26,   28,   29,   31,   32,   36,   42,\n",
              "            ...\n",
              "            1256, 1257, 1271, 1273, 1275, 1299, 1301, 1304, 1307, 1308],\n",
              "           dtype='int64', length=263)"
            ]
          },
          "metadata": {
            "tags": []
          },
          "execution_count": 8
        }
      ]
    },
    {
      "cell_type": "code",
      "metadata": {
        "id": "bv-a3AhGFQ_n",
        "colab_type": "code",
        "colab": {}
      },
      "source": [
        "missing = (df_main.isnull().sum()[df_main.isnull().sum()>0]).sort_values(ascending=False)\n",
        "plt.figure(figsize=(15,10))\n",
        "sns.barplot(x=missing[missing>0].index, y=missing[missing>0].values)\n",
        "plt.xticks(rotation=90)\n",
        "plt.grid(b=True, color='lightgrey')"
      ],
      "execution_count": 0,
      "outputs": []
    },
    {
      "cell_type": "code",
      "metadata": {
        "id": "kOtjxwdRFQ_r",
        "colab_type": "code",
        "outputId": "113aec31-d9c5-4516-f584-6a59d20b15bf",
        "colab": {}
      },
      "source": [
        "display_all(df_main.isnull().sum().sort_index(ascending = False))"
      ],
      "execution_count": 0,
      "outputs": [
        {
          "output_type": "display_data",
          "data": {
            "text/plain": [
              "isChild            0\n",
              "isAged             0\n",
              "isAdult            0\n",
              "Ticket             0\n",
              "Survived         418\n",
              "SibSp              0\n",
              "Sex                0\n",
              "Pclass             0\n",
              "PassengerId        0\n",
              "Parch              0\n",
              "Name               0\n",
              "FarePerPerson      1\n",
              "Fare               1\n",
              "FamilyTotal        0\n",
              "Embarked           2\n",
              "Cabin            998\n",
              "Age                0\n",
              "dtype: int64"
            ]
          },
          "metadata": {
            "tags": []
          }
        }
      ]
    },
    {
      "cell_type": "code",
      "metadata": {
        "id": "ZjOvoBmqFQ_t",
        "colab_type": "code",
        "colab": {}
      },
      "source": [
        "df_main['FamilyTotal'] = df_main.Parch + df_main.SibSp + 1\n",
        "df_main['FarePerPerson'] = df_main.Fare/df_main.FamilyTotal"
      ],
      "execution_count": 0,
      "outputs": []
    },
    {
      "cell_type": "code",
      "metadata": {
        "id": "kF9dfDJ2FQ_v",
        "colab_type": "code",
        "outputId": "77a5d2f8-e173-4941-89be-173ebfa4a351",
        "colab": {}
      },
      "source": [
        "c=[]\n",
        "for idx in i:\n",
        "    if ('Mr.'in df_main.iloc[idx].Name) | ('Mrs.'in df_main.iloc[idx].Name):\n",
        "        c.append(idx)\n",
        "len(c)\n"
      ],
      "execution_count": 0,
      "outputs": [
        {
          "output_type": "execute_result",
          "data": {
            "text/plain": [
              "203"
            ]
          },
          "metadata": {
            "tags": []
          },
          "execution_count": 10
        }
      ]
    },
    {
      "cell_type": "code",
      "metadata": {
        "id": "SdCRCA2ZFQ_y",
        "colab_type": "code",
        "colab": {}
      },
      "source": [
        "for idx in c:\n",
        "    df_main.at[idx, 'Age'] = 30\n",
        "        "
      ],
      "execution_count": 0,
      "outputs": []
    },
    {
      "cell_type": "code",
      "metadata": {
        "id": "U3ukkVD8FQ_0",
        "colab_type": "code",
        "outputId": "1c910198-c3cd-4e98-ebd3-6cd6d7e6211f",
        "colab": {}
      },
      "source": [
        "df_main.Age.isnull().sum()"
      ],
      "execution_count": 0,
      "outputs": [
        {
          "output_type": "execute_result",
          "data": {
            "text/plain": [
              "0"
            ]
          },
          "metadata": {
            "tags": []
          },
          "execution_count": 16
        }
      ]
    },
    {
      "cell_type": "code",
      "metadata": {
        "id": "GX7kpHFCFQ_2",
        "colab_type": "code",
        "colab": {}
      },
      "source": [
        "df_main.Age.fillna(15, inplace=True)"
      ],
      "execution_count": 0,
      "outputs": []
    },
    {
      "cell_type": "code",
      "metadata": {
        "id": "HOH6o-tBFQ_5",
        "colab_type": "code",
        "colab": {}
      },
      "source": [
        "df_main['isAdult'] = df_main.Age.map(lambda x: 0 if ((x<16) | (x>50)) else 1)\n",
        "df_main['isAged'] = df_main.Age.map(lambda x: 0 if x<50 else 1)"
      ],
      "execution_count": 0,
      "outputs": []
    },
    {
      "cell_type": "code",
      "metadata": {
        "id": "9vRfZmULFQ_8",
        "colab_type": "code",
        "colab": {}
      },
      "source": [
        "df_main['isChild'] = df_main.Age.map(lambda x: 0 if x>15 else 1)"
      ],
      "execution_count": 0,
      "outputs": []
    },
    {
      "cell_type": "code",
      "metadata": {
        "id": "mLw5ePwDFQ__",
        "colab_type": "code",
        "colab": {}
      },
      "source": [
        "train_cats(df_main)"
      ],
      "execution_count": 0,
      "outputs": []
    },
    {
      "cell_type": "code",
      "metadata": {
        "id": "kHsOx863FRAC",
        "colab_type": "code",
        "colab": {}
      },
      "source": [
        "df_main.drop('PassengerId', axis = 1, inplace = True)"
      ],
      "execution_count": 0,
      "outputs": []
    },
    {
      "cell_type": "code",
      "metadata": {
        "id": "0hj4wkDvFRAE",
        "colab_type": "code",
        "colab": {}
      },
      "source": [
        "df, y, nas = proc_df(df_main, 'Survived', max_n_cat=5)"
      ],
      "execution_count": 0,
      "outputs": []
    },
    {
      "cell_type": "code",
      "metadata": {
        "id": "FSjQD-QsFRAG",
        "colab_type": "code",
        "outputId": "53714b46-30f2-4d61-cc98-9369f9b36abd",
        "colab": {}
      },
      "source": [
        "dfTest = df[891:]\n",
        "df = df[:891]\n",
        "y = y[:891]\n",
        "df.shape, y.shape, df_main.shape"
      ],
      "execution_count": 0,
      "outputs": [
        {
          "output_type": "execute_result",
          "data": {
            "text/plain": [
              "((891, 22), (891,), (1309, 16))"
            ]
          },
          "metadata": {
            "tags": []
          },
          "execution_count": 22
        }
      ]
    },
    {
      "cell_type": "code",
      "metadata": {
        "id": "DsANbTkxFRAI",
        "colab_type": "code",
        "outputId": "9638ea6d-ee2c-458d-ee11-b45c15d8fa56",
        "colab": {}
      },
      "source": [
        "def split_vals(a,n): return a[:n].copy(), a[n:].copy()\n",
        "\n",
        "n_valid = 100 \n",
        "n_trn = len(df)-n_valid #1459\n",
        "\n",
        "X_train, X_valid = split_vals(df, n_trn)\n",
        "y_train, y_valid = split_vals(y, n_trn)\n",
        "\n",
        "def rmse(x,y): return math.sqrt(((x-y)**2).mean())\n",
        "\n",
        "def print_score(m):\n",
        "    res = [rmse(m.predict(X_train), y_train), rmse(m.predict(X_valid), y_valid),\n",
        "                m.score(X_train, y_train), m.score(X_valid, y_valid)]\n",
        "    if hasattr(m, 'oob_score_'): res.append(m.oob_score_)\n",
        "    print(res)\n",
        "\n",
        "X_train.shape, y_train.shape, X_valid.shape, y_valid.shape"
      ],
      "execution_count": 0,
      "outputs": [
        {
          "output_type": "execute_result",
          "data": {
            "text/plain": [
              "((791, 22), (791,), (100, 22), (100,))"
            ]
          },
          "metadata": {
            "tags": []
          },
          "execution_count": 23
        }
      ]
    },
    {
      "cell_type": "code",
      "metadata": {
        "id": "F_ws_MdiFRAK",
        "colab_type": "code",
        "outputId": "1f83a82a-e56a-4059-8277-eb5126ae3cc4",
        "colab": {}
      },
      "source": [
        "m = RandomForestClassifier(n_estimators = 140, min_samples_leaf=1,  criterion = 'entropy', max_features='log2', n_jobs=-1, oob_score=True)\n",
        "m.fit(X_train, y_train)\n",
        "print_score(m)"
      ],
      "execution_count": 0,
      "outputs": [
        {
          "output_type": "stream",
          "text": [
            "[0.0, 0.37416573867739417, 1.0, 0.86, 0.8394437420986094]\n"
          ],
          "name": "stdout"
        }
      ]
    },
    {
      "cell_type": "code",
      "metadata": {
        "id": "zBp0-pZwFRAP",
        "colab_type": "code",
        "colab": {}
      },
      "source": [
        "fi = rf_feat_importance(m, df); fi[:10]"
      ],
      "execution_count": 0,
      "outputs": []
    },
    {
      "cell_type": "code",
      "metadata": {
        "id": "GgvWY4EoFRAR",
        "colab_type": "code",
        "colab": {}
      },
      "source": [
        "def plot_fi(fi): return fi.plot('cols', 'imp', 'barh', figsize=(12,7), legend=False)\n",
        "plot_fi(fi[:])"
      ],
      "execution_count": 0,
      "outputs": []
    },
    {
      "cell_type": "code",
      "metadata": {
        "id": "N0Fzah09FRAU",
        "colab_type": "code",
        "colab": {}
      },
      "source": [
        "def get_oob(df):\n",
        "    m = RandomForestRegressor(n_estimators=30, min_samples_leaf=5, max_features=0.6, n_jobs=-1, oob_score=True)\n",
        "    x, _ = split_vals(df, n_trn)\n",
        "    m.fit(x, y_train)\n",
        "    return m.oob_score_"
      ],
      "execution_count": 0,
      "outputs": []
    },
    {
      "cell_type": "code",
      "metadata": {
        "id": "E0pEo7hyFRAW",
        "colab_type": "code",
        "colab": {}
      },
      "source": [
        "get_oob(df)"
      ],
      "execution_count": 0,
      "outputs": []
    },
    {
      "cell_type": "code",
      "metadata": {
        "id": "tqQsPvI7FRAY",
        "colab_type": "code",
        "colab": {}
      },
      "source": [
        "# Predicting the validation set results\n",
        "y_pred = m.predict(X_valid)\n",
        "\n",
        "# Making the Confusion Matrix\n",
        "from sklearn.metrics import confusion_matrix\n",
        "cm = confusion_matrix(y_valid, y_pred)"
      ],
      "execution_count": 0,
      "outputs": []
    },
    {
      "cell_type": "code",
      "metadata": {
        "id": "Jmu649GiFRAa",
        "colab_type": "code",
        "outputId": "a7851a39-36a0-4c05-e725-4195b75b589f",
        "colab": {}
      },
      "source": [
        "cm"
      ],
      "execution_count": 0,
      "outputs": [
        {
          "output_type": "execute_result",
          "data": {
            "text/plain": [
              "array([[59,  5],\n",
              "       [17, 19]], dtype=int64)"
            ]
          },
          "metadata": {
            "tags": []
          },
          "execution_count": 68
        }
      ]
    },
    {
      "cell_type": "code",
      "metadata": {
        "id": "N1cFnsV0FRAc",
        "colab_type": "code",
        "colab": {}
      },
      "source": [
        "from sklearn.model_selection import cross_val_score"
      ],
      "execution_count": 0,
      "outputs": []
    },
    {
      "cell_type": "code",
      "metadata": {
        "id": "UF1ajkNyFRAf",
        "colab_type": "code",
        "outputId": "c3b252bf-6221-4faa-9bb1-98126886f992",
        "colab": {}
      },
      "source": [
        "accuracies = cross_val_score(estimator = xgb1, X=X_train, y=y_train, cv=10, n_jobs=-1)\n",
        "accuracies.mean()"
      ],
      "execution_count": 0,
      "outputs": [
        {
          "output_type": "execute_result",
          "data": {
            "text/plain": [
              "0.8231280428432328"
            ]
          },
          "metadata": {
            "tags": []
          },
          "execution_count": 69
        }
      ]
    },
    {
      "cell_type": "code",
      "metadata": {
        "id": "Ok0ApFBTFRAg",
        "colab_type": "code",
        "outputId": "10f4a091-636e-4f57-f93c-7a8d719aaa5c",
        "colab": {}
      },
      "source": [
        "accuracies"
      ],
      "execution_count": 0,
      "outputs": [
        {
          "output_type": "execute_result",
          "data": {
            "text/plain": [
              "array([0.825     , 0.825     , 0.7625    , 0.7875    , 0.875     ,\n",
              "       0.81012658, 0.79487179, 0.84615385, 0.87179487, 0.83333333])"
            ]
          },
          "metadata": {
            "tags": []
          },
          "execution_count": 71
        }
      ]
    },
    {
      "cell_type": "code",
      "metadata": {
        "id": "QHkAj0SVFRAi",
        "colab_type": "code",
        "colab": {}
      },
      "source": [
        "from sklearn.model_selection import GridSearchCV"
      ],
      "execution_count": 0,
      "outputs": []
    },
    {
      "cell_type": "code",
      "metadata": {
        "id": "JFE_mMHHFRAk",
        "colab_type": "code",
        "colab": {}
      },
      "source": [
        "parameters = [{'n_estimators': [100,120,140], \n",
        "               'min_samples_leaf': [1,3,5],\n",
        "               'max_features': [0.5, 'auto', 'sqrt', 'log2'],\n",
        "               'criterion': ['entropy']},\n",
        "              ]"
      ],
      "execution_count": 0,
      "outputs": []
    },
    {
      "cell_type": "code",
      "metadata": {
        "id": "JLQxnLGiFRAm",
        "colab_type": "code",
        "colab": {}
      },
      "source": [
        "gridSearch = GridSearchCV(estimator=m, param_grid=parameters, scoring='accuracy', cv=10, n_jobs=-1)\n",
        "gridSearch = gridSearch.fit(X_train,y_train)\n",
        "\n",
        "bestAcc = gridSearch.best_score_\n",
        "bestParams = gridSearch.best_params_"
      ],
      "execution_count": 0,
      "outputs": []
    },
    {
      "cell_type": "code",
      "metadata": {
        "id": "GqegZ1F9FRAo",
        "colab_type": "code",
        "outputId": "c3dc90ad-0938-4e55-9cf8-4944c4d1584d",
        "colab": {}
      },
      "source": [
        "xgb1 = XGBClassifier(\n",
        " learning_rate =0.1,\n",
        " n_estimators=1000,\n",
        " max_depth=5,\n",
        " min_child_weight=1,\n",
        " gamma=0,\n",
        " subsample=0.8,\n",
        " colsample_bytree=0.8,\n",
        " objective= 'binary:logistic',\n",
        " nthread=4,\n",
        " scale_pos_weight=1,\n",
        " seed=27)\n",
        "xgb1.fit(X_train, y_train)"
      ],
      "execution_count": 0,
      "outputs": [
        {
          "output_type": "execute_result",
          "data": {
            "text/plain": [
              "XGBClassifier(base_score=0.5, booster=None, colsample_bylevel=1,\n",
              "              colsample_bynode=1, colsample_bytree=0.8, gamma=0, gpu_id=-1,\n",
              "              importance_type='gain', interaction_constraints=None,\n",
              "              learning_rate=0.1, max_delta_step=0, max_depth=5,\n",
              "              min_child_weight=1, missing=nan, monotone_constraints=None,\n",
              "              n_estimators=1000, n_jobs=4, nthread=4, num_parallel_tree=1,\n",
              "              objective='binary:logistic', random_state=27, reg_alpha=0,\n",
              "              reg_lambda=1, scale_pos_weight=1, seed=27, subsample=0.8,\n",
              "              tree_method=None, validate_parameters=False, verbosity=None)"
            ]
          },
          "metadata": {
            "tags": []
          },
          "execution_count": 65
        }
      ]
    },
    {
      "cell_type": "code",
      "metadata": {
        "id": "pmW6yt4oFRAq",
        "colab_type": "code",
        "outputId": "1ff01eb9-8924-4660-9f8a-ae9e28470c74",
        "colab": {}
      },
      "source": [
        "print_score(xgb1)"
      ],
      "execution_count": 0,
      "outputs": [
        {
          "output_type": "stream",
          "text": [
            "[0.0, 0.4, 1.0, 0.84]\n"
          ],
          "name": "stdout"
        }
      ]
    },
    {
      "cell_type": "code",
      "metadata": {
        "id": "_MIfcDMEFRAs",
        "colab_type": "code",
        "colab": {}
      },
      "source": [
        "from xgboost import XGBClassifier"
      ],
      "execution_count": 0,
      "outputs": []
    },
    {
      "cell_type": "code",
      "metadata": {
        "id": "9fvVjyD8FRAu",
        "colab_type": "code",
        "outputId": "a81c6a13-80af-467b-a738-d196d69bbaee",
        "colab": {}
      },
      "source": [
        "m = XGBClassifier( colsample_bytree = 0.7,\n",
        "  learning_rate = 0.05,\n",
        "  max_depth = 6,\n",
        "  min_child_weight = 11,\n",
        "  n_estimators = 5,\n",
        "  nthread = 4,\n",
        "  seed = 1337,\n",
        "  silent = 1,\n",
        "  subsample = 0.8)\n",
        "\n",
        "m.fit(X_train,y_train)\n",
        "print_score(m)"
      ],
      "execution_count": 0,
      "outputs": [
        {
          "output_type": "stream",
          "text": [
            "[0.4340151529277784, 0.469041575982343, 0.8116308470290771, 0.78]\n"
          ],
          "name": "stdout"
        }
      ]
    },
    {
      "cell_type": "code",
      "metadata": {
        "id": "_DvRmC8MFRAx",
        "colab_type": "code",
        "colab": {}
      },
      "source": [
        "sub = m.predict(dfTest).astype(int)\n",
        "submission = pd.DataFrame()\n",
        "submission['PassengerId'] = testID\n",
        "submission['Survived'] = sub\n",
        "submission.head()\n",
        "submission.to_csv(\"Titanic11.csv\", index=False)"
      ],
      "execution_count": 0,
      "outputs": []
    },
    {
      "cell_type": "code",
      "metadata": {
        "id": "w1EmMcZiFRAz",
        "colab_type": "code",
        "colab": {}
      },
      "source": [
        "display_all(df_main.T)"
      ],
      "execution_count": 0,
      "outputs": []
    },
    {
      "cell_type": "code",
      "metadata": {
        "id": "Pc8AyoSrFRA1",
        "colab_type": "code",
        "colab": {}
      },
      "source": [
        "# count = 0\n",
        "# for j in range(0,len(df_main)):\n",
        "#     if type(df_main.Cabin[j]) != str:\n",
        "#         count +=1\n",
        "# count\n",
        "\n",
        "#         n = df_main.Name[j]\n",
        "#         n = n.split(',')\n",
        "#         n = n[0]"
      ],
      "execution_count": 0,
      "outputs": []
    },
    {
      "cell_type": "code",
      "metadata": {
        "id": "cKtPRaQ1FRA3",
        "colab_type": "code",
        "colab": {}
      },
      "source": [
        "for j in range(0,len(tempDf)):\n",
        "    if type(tempDf.Cabin[j]) == float:\n",
        "        t = tempDf.Ticket[j]\n",
        "        for jj in range(0,len(tempDf)):\n",
        "            if j == jj:\n",
        "                continue\n",
        "            if (tempDf.Ticket[jj] == t) & (type(tempDf.Cabin[jj]) == str) :\n",
        "                tempDf.Cabin[j] = tempDf.Cabin[jj]"
      ],
      "execution_count": 0,
      "outputs": []
    },
    {
      "cell_type": "code",
      "metadata": {
        "id": "QLFDw9FFFRA5",
        "colab_type": "code",
        "outputId": "d789f275-53cb-4dd9-b31b-e42dfddd26b1",
        "colab": {}
      },
      "source": [
        "df_main[(df_main.Ticket == 'W./C. 6608')]"
      ],
      "execution_count": 0,
      "outputs": [
        {
          "output_type": "execute_result",
          "data": {
            "text/html": [
              "<div>\n",
              "<style scoped>\n",
              "    .dataframe tbody tr th:only-of-type {\n",
              "        vertical-align: middle;\n",
              "    }\n",
              "\n",
              "    .dataframe tbody tr th {\n",
              "        vertical-align: top;\n",
              "    }\n",
              "\n",
              "    .dataframe thead th {\n",
              "        text-align: right;\n",
              "    }\n",
              "</style>\n",
              "<table border=\"1\" class=\"dataframe\">\n",
              "  <thead>\n",
              "    <tr style=\"text-align: right;\">\n",
              "      <th></th>\n",
              "      <th>Age</th>\n",
              "      <th>Cabin</th>\n",
              "      <th>Embarked</th>\n",
              "      <th>Fare</th>\n",
              "      <th>Name</th>\n",
              "      <th>Parch</th>\n",
              "      <th>PassengerId</th>\n",
              "      <th>Pclass</th>\n",
              "      <th>Sex</th>\n",
              "      <th>SibSp</th>\n",
              "      <th>Survived</th>\n",
              "      <th>Ticket</th>\n",
              "      <th>FamilyTotal</th>\n",
              "      <th>FarePerPerson</th>\n",
              "      <th>isAdult</th>\n",
              "      <th>isAged</th>\n",
              "      <th>isChild</th>\n",
              "    </tr>\n",
              "  </thead>\n",
              "  <tbody>\n",
              "    <tr>\n",
              "      <td>86</td>\n",
              "      <td>16.0</td>\n",
              "      <td>NaN</td>\n",
              "      <td>S</td>\n",
              "      <td>34.375</td>\n",
              "      <td>Ford, Mr. William Neal</td>\n",
              "      <td>3</td>\n",
              "      <td>87</td>\n",
              "      <td>3</td>\n",
              "      <td>male</td>\n",
              "      <td>1</td>\n",
              "      <td>0.0</td>\n",
              "      <td>W./C. 6608</td>\n",
              "      <td>5</td>\n",
              "      <td>6.875</td>\n",
              "      <td>1</td>\n",
              "      <td>0</td>\n",
              "      <td>1</td>\n",
              "    </tr>\n",
              "    <tr>\n",
              "      <td>147</td>\n",
              "      <td>9.0</td>\n",
              "      <td>NaN</td>\n",
              "      <td>S</td>\n",
              "      <td>34.375</td>\n",
              "      <td>Ford, Miss. Robina Maggie \"Ruby\"</td>\n",
              "      <td>2</td>\n",
              "      <td>148</td>\n",
              "      <td>3</td>\n",
              "      <td>female</td>\n",
              "      <td>2</td>\n",
              "      <td>0.0</td>\n",
              "      <td>W./C. 6608</td>\n",
              "      <td>5</td>\n",
              "      <td>6.875</td>\n",
              "      <td>0</td>\n",
              "      <td>0</td>\n",
              "      <td>1</td>\n",
              "    </tr>\n",
              "    <tr>\n",
              "      <td>436</td>\n",
              "      <td>21.0</td>\n",
              "      <td>NaN</td>\n",
              "      <td>S</td>\n",
              "      <td>34.375</td>\n",
              "      <td>Ford, Miss. Doolina Margaret \"Daisy\"</td>\n",
              "      <td>2</td>\n",
              "      <td>437</td>\n",
              "      <td>3</td>\n",
              "      <td>female</td>\n",
              "      <td>2</td>\n",
              "      <td>0.0</td>\n",
              "      <td>W./C. 6608</td>\n",
              "      <td>5</td>\n",
              "      <td>6.875</td>\n",
              "      <td>1</td>\n",
              "      <td>0</td>\n",
              "      <td>0</td>\n",
              "    </tr>\n",
              "    <tr>\n",
              "      <td>736</td>\n",
              "      <td>48.0</td>\n",
              "      <td>NaN</td>\n",
              "      <td>S</td>\n",
              "      <td>34.375</td>\n",
              "      <td>Ford, Mrs. Edward (Margaret Ann Watson)</td>\n",
              "      <td>3</td>\n",
              "      <td>737</td>\n",
              "      <td>3</td>\n",
              "      <td>female</td>\n",
              "      <td>1</td>\n",
              "      <td>0.0</td>\n",
              "      <td>W./C. 6608</td>\n",
              "      <td>5</td>\n",
              "      <td>6.875</td>\n",
              "      <td>1</td>\n",
              "      <td>0</td>\n",
              "      <td>0</td>\n",
              "    </tr>\n",
              "    <tr>\n",
              "      <td>1058</td>\n",
              "      <td>18.0</td>\n",
              "      <td>NaN</td>\n",
              "      <td>S</td>\n",
              "      <td>34.375</td>\n",
              "      <td>Ford, Mr. Edward Watson</td>\n",
              "      <td>2</td>\n",
              "      <td>1059</td>\n",
              "      <td>3</td>\n",
              "      <td>male</td>\n",
              "      <td>2</td>\n",
              "      <td>NaN</td>\n",
              "      <td>W./C. 6608</td>\n",
              "      <td>5</td>\n",
              "      <td>6.875</td>\n",
              "      <td>1</td>\n",
              "      <td>0</td>\n",
              "      <td>0</td>\n",
              "    </tr>\n",
              "  </tbody>\n",
              "</table>\n",
              "</div>"
            ],
            "text/plain": [
              "       Age Cabin Embarked    Fare                                     Name  \\\n",
              "86    16.0   NaN        S  34.375                   Ford, Mr. William Neal   \n",
              "147    9.0   NaN        S  34.375         Ford, Miss. Robina Maggie \"Ruby\"   \n",
              "436   21.0   NaN        S  34.375     Ford, Miss. Doolina Margaret \"Daisy\"   \n",
              "736   48.0   NaN        S  34.375  Ford, Mrs. Edward (Margaret Ann Watson)   \n",
              "1058  18.0   NaN        S  34.375                  Ford, Mr. Edward Watson   \n",
              "\n",
              "      Parch  PassengerId  Pclass     Sex  SibSp  Survived      Ticket  \\\n",
              "86        3           87       3    male      1       0.0  W./C. 6608   \n",
              "147       2          148       3  female      2       0.0  W./C. 6608   \n",
              "436       2          437       3  female      2       0.0  W./C. 6608   \n",
              "736       3          737       3  female      1       0.0  W./C. 6608   \n",
              "1058      2         1059       3    male      2       NaN  W./C. 6608   \n",
              "\n",
              "      FamilyTotal  FarePerPerson  isAdult  isAged  isChild  \n",
              "86              5          6.875        1       0        1  \n",
              "147             5          6.875        0       0        1  \n",
              "436             5          6.875        1       0        0  \n",
              "736             5          6.875        1       0        0  \n",
              "1058            5          6.875        1       0        0  "
            ]
          },
          "metadata": {
            "tags": []
          },
          "execution_count": 65
        }
      ]
    },
    {
      "cell_type": "code",
      "metadata": {
        "id": "1DxalfWKFRA8",
        "colab_type": "code",
        "colab": {}
      },
      "source": [
        "display_all(df_main[(df_main.Pclass == 1) & (df_main.Cabins.str.contains('A'))])"
      ],
      "execution_count": 0,
      "outputs": []
    },
    {
      "cell_type": "code",
      "metadata": {
        "id": "1PwT0MnPFRA_",
        "colab_type": "code",
        "colab": {}
      },
      "source": [
        ""
      ],
      "execution_count": 0,
      "outputs": []
    },
    {
      "cell_type": "code",
      "metadata": {
        "id": "rC__kGvvFRBC",
        "colab_type": "code",
        "colab": {}
      },
      "source": [
        ""
      ],
      "execution_count": 0,
      "outputs": []
    }
  ]
}